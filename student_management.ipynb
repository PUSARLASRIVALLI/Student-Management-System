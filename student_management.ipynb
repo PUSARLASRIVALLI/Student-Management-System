{
 "cells": [
  {
   "cell_type": "code",
   "execution_count": 1,
   "id": "532be2db-50e0-493b-a935-a496444ebc3c",
   "metadata": {},
   "outputs": [],
   "source": [
    "import csv\n",
    "import os\n",
    "\n",
    "# File to store student data\n",
    "FILE_NAME = \"students.csv\"\n",
    "\n",
    "# Ensure the file exists\n",
    "if not os.path.exists(FILE_NAME):\n",
    "    with open(FILE_NAME, \"w\", newline=\"\") as file:\n",
    "        writer = csv.writer(file)\n",
    "        writer.writerow([\"Name\", \"Roll No\", \"Department\", \"CGPA\"])\n"
   ]
  },
  {
   "cell_type": "code",
   "execution_count": 2,
   "id": "d3d6f3f7-5484-4bc2-9428-46e7485dd4e2",
   "metadata": {},
   "outputs": [],
   "source": [
    "# Function to add a student\n",
    "def add_student(name, roll_no, department, cgpa):\n",
    "    with open(FILE_NAME, \"a\", newline=\"\") as file:\n",
    "        writer = csv.writer(file)\n",
    "        writer.writerow([name, roll_no, department, cgpa])\n",
    "    print(\"Student added successfully!\")\n",
    "\n",
    "# Function to view all students\n",
    "def view_students():\n",
    "    try:\n",
    "        with open(FILE_NAME, \"r\") as file:\n",
    "            reader = csv.reader(file)\n",
    "            for row in reader:\n",
    "                print(row)\n",
    "    except FileNotFoundError:\n",
    "        print(\"No records found!\")\n",
    "\n",
    "# Function to update a student's details\n",
    "def update_student(roll_no, new_name, new_department, new_cgpa):\n",
    "    students = []\n",
    "\n",
    "    try:\n",
    "        with open(FILE_NAME, \"r\") as file:\n",
    "            reader = csv.reader(file)\n",
    "            students = list(reader)\n",
    "\n",
    "        for student in students:\n",
    "            if student[1] == roll_no:\n",
    "                student[0] = new_name\n",
    "                student[2] = new_department\n",
    "                student[3] = new_cgpa\n",
    "                break\n",
    "\n",
    "        with open(FILE_NAME, \"w\", newline=\"\") as file:\n",
    "            writer = csv.writer(file)\n",
    "            writer.writerows(students)\n",
    "\n",
    "        print(\"Student record updated!\")\n",
    "    except FileNotFoundError:\n",
    "        print(\"No records found!\")\n",
    "\n",
    "# Function to delete a student record\n",
    "def delete_student(roll_no):\n",
    "    students = []\n",
    "\n",
    "    try:\n",
    "        with open(FILE_NAME, \"r\") as file:\n",
    "            reader = csv.reader(file)\n",
    "            students = [row for row in reader if row[1] != roll_no]\n",
    "\n",
    "        with open(FILE_NAME, \"w\", newline=\"\") as file:\n",
    "            writer = csv.writer(file)\n",
    "            writer.writerows(students)\n",
    "\n",
    "        print(\"Student record deleted!\")\n",
    "    except FileNotFoundError:\n",
    "        print(\"No records found!\")\n"
   ]
  },
  {
   "cell_type": "code",
   "execution_count": 3,
   "id": "5f1ecd20-5c92-467e-bed2-2e5010afdb10",
   "metadata": {},
   "outputs": [
    {
     "name": "stdout",
     "output_type": "stream",
     "text": [
      "Student added successfully!\n"
     ]
    }
   ],
   "source": [
    "add_student(\"Alice\", \"101\", \"ECE\", \"8.5\")\n"
   ]
  },
  {
   "cell_type": "code",
   "execution_count": 4,
   "id": "95e60055-b665-4d60-9023-84c53c20e8e6",
   "metadata": {},
   "outputs": [
    {
     "name": "stdout",
     "output_type": "stream",
     "text": [
      "['Name', 'Roll No', 'Department', 'CGPA']\n",
      "['Alice', '101', 'ECE', '8.5']\n"
     ]
    }
   ],
   "source": [
    "view_students()\n"
   ]
  },
  {
   "cell_type": "code",
   "execution_count": 5,
   "id": "93020f40-91f7-4119-8b27-f5a583710ad1",
   "metadata": {},
   "outputs": [
    {
     "name": "stdout",
     "output_type": "stream",
     "text": [
      "Student record updated!\n"
     ]
    }
   ],
   "source": [
    "update_student(\"101\", \"Alicia\", \"CSE\", \"9.0\")\n"
   ]
  },
  {
   "cell_type": "code",
   "execution_count": 6,
   "id": "ea42cbcb-dfbb-4cf4-9b6a-9a59f67efaec",
   "metadata": {},
   "outputs": [
    {
     "name": "stdout",
     "output_type": "stream",
     "text": [
      "Student record deleted!\n"
     ]
    }
   ],
   "source": [
    "delete_student(\"101\")\n"
   ]
  },
  {
   "cell_type": "code",
   "execution_count": null,
   "id": "7a1dd1f6-f658-4422-86da-29887e9f4e17",
   "metadata": {},
   "outputs": [],
   "source": []
  }
 ],
 "metadata": {
  "kernelspec": {
   "display_name": "Python 3 (ipykernel)",
   "language": "python",
   "name": "python3"
  },
  "language_info": {
   "codemirror_mode": {
    "name": "ipython",
    "version": 3
   },
   "file_extension": ".py",
   "mimetype": "text/x-python",
   "name": "python",
   "nbconvert_exporter": "python",
   "pygments_lexer": "ipython3",
   "version": "3.12.4"
  }
 },
 "nbformat": 4,
 "nbformat_minor": 5
}
